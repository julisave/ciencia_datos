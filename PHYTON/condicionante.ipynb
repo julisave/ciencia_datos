{
 "cells": [
  {
   "cell_type": "markdown",
   "metadata": {},
   "source": [
    "# if"
   ]
  },
  {
   "cell_type": "code",
   "execution_count": 32,
   "metadata": {},
   "outputs": [
    {
     "name": "stdout",
     "output_type": "stream",
     "text": [
      "es mayor de edad y es mujer y su edad es:18\n"
     ]
    }
   ],
   "source": [
    "generoAlumno = \"f\"\n",
    "edadAlumno = 18\n",
    "if edadAlumno >=15 or generoAlumno == \"f\":\n",
    "  print(\"es mayor de edad y es mujer y su edad es:\"+ str(edadAlumno))\n",
    "else:\n",
    "    print(\"es menor de edad\")"
   ]
  },
  {
   "cell_type": "code",
   "execution_count": 2,
   "metadata": {},
   "outputs": [
    {
     "name": "stdout",
     "output_type": "stream",
     "text": [
      "2\n"
     ]
    },
    {
     "data": {
      "text/plain": [
       "int"
      ]
     },
     "execution_count": 2,
     "metadata": {},
     "output_type": "execute_result"
    }
   ],
   "source": [
    "numeroTexto=\"2\"\n",
    "print(int(numeroTexto))\n",
    "type(int(numeroTexto))"
   ]
  },
  {
   "cell_type": "markdown",
   "metadata": {},
   "source": [
    "SENTENCIA WHILE"
   ]
  },
  {
   "cell_type": "code",
   "execution_count": 7,
   "metadata": {},
   "outputs": [
    {
     "name": "stdout",
     "output_type": "stream",
     "text": [
      "0\n",
      "1\n",
      "2\n",
      "3\n",
      "4\n",
      "5\n",
      "6\n",
      "7\n",
      "8\n",
      "9\n",
      "10\n"
     ]
    }
   ],
   "source": [
    "contador = 0\n",
    "while contador <=10:\n",
    "    print(contador)\n",
    "    contador += 1\n",
    "\n",
    "       "
   ]
  },
  {
   "cell_type": "code",
   "execution_count": 8,
   "metadata": {},
   "outputs": [
    {
     "name": "stdout",
     "output_type": "stream",
     "text": [
      "1\n",
      "2\n",
      "3\n",
      "4\n",
      "5\n",
      "6\n"
     ]
    }
   ],
   "source": [
    "listaNumeros =[1,2,3,4,5,6]\n",
    "for numero in listaNumeros:\n",
    "    print(numero)"
   ]
  },
  {
   "cell_type": "code",
   "execution_count": 14,
   "metadata": {},
   "outputs": [
    {
     "name": "stdout",
     "output_type": "stream",
     "text": [
      "el numero es par\n",
      "el numero es par\n",
      "el numero es par\n"
     ]
    }
   ],
   "source": [
    "for numero in listaNumeros:\n",
    "    if numero % 2 ==0:\n",
    "        print(\"el numero es par\")\n"
   ]
  },
  {
   "cell_type": "code",
   "execution_count": 15,
   "metadata": {},
   "outputs": [
    {
     "name": "stdout",
     "output_type": "stream",
     "text": [
      "el numero es par y es el:2\n",
      "el numero es par y es el:4\n",
      "el numero es par y es el:6\n"
     ]
    }
   ],
   "source": [
    "for numero in listaNumeros:\n",
    "    if numero % 2 ==0:\n",
    "        print(\"el numero es par y es el:\" + str(numero))"
   ]
  },
  {
   "cell_type": "code",
   "execution_count": 19,
   "metadata": {},
   "outputs": [
    {
     "name": "stdout",
     "output_type": "stream",
     "text": [
      "el numero es impar y es el:1\n",
      "el numero es impar y es el:3\n",
      "el numero es impar y es el:5\n"
     ]
    }
   ],
   "source": [
    "for numero in listaNumeros:\n",
    "    if numero % 2 ==1:\n",
    "        print(\"el numero es impar y es el:\" + str(numero))"
   ]
  },
  {
   "cell_type": "code",
   "execution_count": 27,
   "metadata": {},
   "outputs": [
    {
     "name": "stdout",
     "output_type": "stream",
     "text": [
      "el numero es par y es el:2\n",
      "el numero impar y es :3\n",
      "el numero es par y es el:4\n",
      "el numero es par y es el:6\n"
     ]
    }
   ],
   "source": [
    "for numero in listaNumeros:\n",
    "    if numero % 2 ==0:\n",
    "        print(\"el numero es par y es el:\" + str(numero))\n",
    "    elif numero % 3 ==0:\n",
    "        print(\"el numero impar y es :\" + str(numero))\n",
    "        "
   ]
  },
  {
   "cell_type": "markdown",
   "metadata": {},
   "source": [
    "# continue"
   ]
  },
  {
   "cell_type": "code",
   "execution_count": 30,
   "metadata": {},
   "outputs": [
    {
     "name": "stdout",
     "output_type": "stream",
     "text": [
      "1\n",
      "2\n"
     ]
    }
   ],
   "source": [
    "for numero in listaNumeros:\n",
    "    if numero % 3 ==0:\n",
    "        continue\n",
    "    else:\n",
    "        print(numero)"
   ]
  },
  {
   "cell_type": "markdown",
   "metadata": {},
   "source": [
    "# break"
   ]
  },
  {
   "cell_type": "code",
   "execution_count": 31,
   "metadata": {},
   "outputs": [
    {
     "name": "stdout",
     "output_type": "stream",
     "text": [
      "1\n",
      "2\n"
     ]
    }
   ],
   "source": [
    "for numero in listaNumeros:\n",
    "    if numero % 3 ==0:\n",
    "        break\n",
    "    else:\n",
    "        print(numero)"
   ]
  },
  {
   "cell_type": "code",
   "execution_count": null,
   "metadata": {
    "collapsed": true
   },
   "outputs": [],
   "source": []
  }
 ],
 "metadata": {
  "kernelspec": {
   "display_name": "Python 3",
   "language": "python",
   "name": "python3"
  },
  "language_info": {
   "codemirror_mode": {
    "name": "ipython",
    "version": 3
   },
   "file_extension": ".py",
   "mimetype": "text/x-python",
   "name": "python",
   "nbconvert_exporter": "python",
   "pygments_lexer": "ipython3",
   "version": "3.6.1"
  }
 },
 "nbformat": 4,
 "nbformat_minor": 2
}
